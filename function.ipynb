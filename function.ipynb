{
 "cells": [
  {
   "cell_type": "code",
   "execution_count": null,
   "source": [
    "def say_hello():\r\n",
    "    print(\"Hello!\")"
   ],
   "outputs": [],
   "metadata": {}
  },
  {
   "cell_type": "code",
   "execution_count": null,
   "source": [
    "# Call the function. \r\n",
    "say_hello()"
   ],
   "outputs": [],
   "metadata": {}
  },
  {
   "cell_type": "code",
   "execution_count": null,
   "source": [
    "import pandas as pd"
   ],
   "outputs": [],
   "metadata": {}
  },
  {
   "cell_type": "code",
   "execution_count": null,
   "source": [
    "# A list of my grades\r\n",
    "my_grades = ['B', 'C', 'B', 'D']\r\n",
    "\r\n",
    "my_grades =pd.Series(my_grades)\r\n",
    "my_grades"
   ],
   "outputs": [],
   "metadata": {}
  },
  {
   "cell_type": "code",
   "execution_count": null,
   "source": [
    "# Change the grades by one letter grade. \r\n",
    "\r\n",
    "my_grades.map({'B': 'A' , 'C': 'B' , 'D': 'C'})\r\n"
   ],
   "outputs": [],
   "metadata": {}
  },
  {
   "cell_type": "code",
   "execution_count": null,
   "source": [
    "# Using the format() function\r\n",
    "my_grades = [92.34 , 84.56, 86.78, 98.32]\r\n",
    "\r\n",
    "for grade in my_grades:\r\n",
    "    print(\"{:.0f}\".format(grade))"
   ],
   "outputs": [],
   "metadata": {}
  }
 ],
 "metadata": {
  "orig_nbformat": 4,
  "language_info": {
   "name": "python",
   "version": "3.7.10",
   "mimetype": "text/x-python",
   "codemirror_mode": {
    "name": "ipython",
    "version": 3
   },
   "pygments_lexer": "ipython3",
   "nbconvert_exporter": "python",
   "file_extension": ".py"
  },
  "kernelspec": {
   "name": "python3",
   "display_name": "Python 3.7.10 64-bit ('PythonData': conda)"
  },
  "interpreter": {
   "hash": "e2c90f2b55697ebd10a1580373892a477e33f2643c7f0fec0ac59e3643c3e2f1"
  }
 },
 "nbformat": 4,
 "nbformat_minor": 2
}