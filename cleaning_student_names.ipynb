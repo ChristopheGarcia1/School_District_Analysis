{
 "cells": [
  {
   "cell_type": "code",
   "execution_count": null,
   "source": [
    "import pandas as pd"
   ],
   "outputs": [],
   "metadata": {}
  },
  {
   "cell_type": "code",
   "execution_count": null,
   "source": [
    "student_data_to_load = \"Resources/students_complete.csv\"\r\n",
    "\r\n",
    "student_data_df = pd.read_csv(student_data_to_load)\r\n",
    "student_data_df.head()"
   ],
   "outputs": [],
   "metadata": {}
  },
  {
   "cell_type": "code",
   "execution_count": null,
   "source": [
    "# Put the student names in the list\r\n",
    "student_names = student_data_df[\"student_name\"].tolist()\r\n",
    "student_names"
   ],
   "outputs": [],
   "metadata": {}
  },
  {
   "cell_type": "code",
   "execution_count": null,
   "source": [
    "# Split the student name and determine the length of the split name \r\n",
    "\r\n",
    "for name in student_names:\r\n",
    "    print(name.split(), len(name.split()))"
   ],
   "outputs": [],
   "metadata": {}
  },
  {
   "cell_type": "code",
   "execution_count": null,
   "source": [
    "# Create a new list and use it for loop to iterate through the list \r\n",
    "students_to_fix = []\r\n",
    "\r\n",
    "# Use an if statement to check the length of the name \r\n",
    "# If greater or = to 3, dd name to list\r\n",
    "\r\n",
    "for name in student_names:\r\n",
    "    if len(name.split()) >= 3:\r\n",
    "        students_to_fix.append(name)\r\n",
    "\r\n",
    "# get the length of the students whos names are greater than or equal to \"3\"%%! \r\n",
    "len(students_to_fix)\r\n",
    "\r\n"
   ],
   "outputs": [],
   "metadata": {}
  },
  {
   "cell_type": "code",
   "execution_count": null,
   "source": [
    "# add prefixes less than or equal to 4 to do a new list\r\n",
    "\r\n",
    "prefixes = []\r\n",
    "for name in students_to_fix:\r\n",
    "    if len(name.split()[0]) <= 4:\r\n",
    "        prefixes.append(name.split()[0])\r\n",
    "\r\n",
    "print(prefixes)\r\n",
    "\r\n",
    "\r\n"
   ],
   "outputs": [],
   "metadata": {}
  },
  {
   "cell_type": "code",
   "execution_count": null,
   "source": [
    "# add suffixes less than or equal to 4 to do a new list\r\n",
    "suffixes = []\r\n",
    "for name in students_to_fix:\r\n",
    "    if len(name.split()[-1]) <= 3:\r\n",
    "        suffixes.append(name.split()[-1])\r\n",
    "\r\n",
    "print(suffixes)"
   ],
   "outputs": [],
   "metadata": {}
  },
  {
   "cell_type": "code",
   "execution_count": null,
   "source": [
    "set(prefixes)"
   ],
   "outputs": [],
   "metadata": {}
  },
  {
   "cell_type": "code",
   "execution_count": null,
   "source": [
    "set(suffixes)"
   ],
   "outputs": [],
   "metadata": {}
  },
  {
   "cell_type": "code",
   "execution_count": null,
   "source": [
    "# Strip \"Mrs.\" from the student names\r\n",
    "for name in students_to_fix:\r\n",
    "    print(name.strip(\"Mrs.\"))"
   ],
   "outputs": [],
   "metadata": {}
  },
  {
   "cell_type": "code",
   "execution_count": null,
   "source": [
    "# Replace \"Dr.\" and empty string\r\n",
    "name = \"Dr. Linda Santiago\"\r\n",
    "name.replace(\"Dr. \", \"\")"
   ],
   "outputs": [],
   "metadata": {}
  },
  {
   "cell_type": "code",
   "execution_count": null,
   "source": [
    "# Add each prefix and suffix to remove to a list.\r\n",
    "prefixes_suffixes = [\"Dr. \", \"Mr. \",\"Ms. \", \"Mrs. \", \"Miss \", \" MD\", \" DDS\", \" DVM\", \" PhD\"]\r\n",
    "for word in prefixes_suffixes:\r\n",
    "    student_data_df[\"student_name\"] = student_data_df[\"student_name\"].str.replace(word,\"\")"
   ],
   "outputs": [],
   "metadata": {}
  },
  {
   "cell_type": "code",
   "execution_count": null,
   "source": [
    "student_names = student_data_df[\"student_name\"].tolist()\r\n",
    "student_names"
   ],
   "outputs": [],
   "metadata": {}
  },
  {
   "cell_type": "code",
   "execution_count": null,
   "source": [
    "# Create a new list and use it for the for loop to iterate through to list.\r\n",
    "students_fixed = []\r\n",
    "\r\n",
    "# Use an if statement to check the length of the name\r\n",
    "\r\n",
    "# If the name is greater than or equal to 3, add the name to the list\r\n",
    "\r\n",
    "for name in student_names:\r\n",
    "    if len(name.split()) >= 3:\r\n",
    "        students_fixed.append(name)\r\n",
    "\r\n",
    "# Get the length of the students names that are greater than or equal to 3\r\n",
    "\r\n",
    "len(students_fixed)"
   ],
   "outputs": [],
   "metadata": {}
  }
 ],
 "metadata": {
  "orig_nbformat": 4,
  "language_info": {
   "name": "python",
   "version": "3.7.10",
   "mimetype": "text/x-python",
   "codemirror_mode": {
    "name": "ipython",
    "version": 3
   },
   "pygments_lexer": "ipython3",
   "nbconvert_exporter": "python",
   "file_extension": ".py"
  },
  "kernelspec": {
   "name": "python3",
   "display_name": "Python 3.7.10 64-bit ('PythonData': conda)"
  },
  "interpreter": {
   "hash": "e2c90f2b55697ebd10a1580373892a477e33f2643c7f0fec0ac59e3643c3e2f1"
  }
 },
 "nbformat": 4,
 "nbformat_minor": 2
}