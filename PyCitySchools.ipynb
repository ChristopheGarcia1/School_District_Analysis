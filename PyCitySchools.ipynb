{
 "cells": [
  {
   "cell_type": "code",
   "execution_count": null,
   "source": [
    "#Add the Pandas dependency\r\n",
    "\r\n",
    "import pandas as pd"
   ],
   "outputs": [],
   "metadata": {}
  },
  {
   "cell_type": "code",
   "execution_count": null,
   "source": [
    "# Files to Load\r\n",
    "\r\n",
    "school_data_to_load = \"Resources/schools_complete.csv\"\r\n",
    "student_data_to_load = \"Resources/students_complete.csv\""
   ],
   "outputs": [],
   "metadata": {}
  },
  {
   "cell_type": "code",
   "execution_count": null,
   "source": [
    "# Read the school and student data file and store it in a pandas DataFrame.\r\n",
    "\r\n",
    "student_data_df = pd.read_csv(student_data_to_load)\r\n",
    "school_data_df = pd.read_csv(school_data_to_load)\r\n",
    "school_data_df.head()"
   ],
   "outputs": [],
   "metadata": {}
  },
  {
   "cell_type": "code",
   "execution_count": null,
   "source": [
    "#Determine if there are any missing values in the school data.\r\n",
    "\r\n",
    "school_data_df.count()"
   ],
   "outputs": [],
   "metadata": {}
  },
  {
   "cell_type": "code",
   "execution_count": null,
   "source": [
    "#Determine if there are any missing values in the student data.\r\n",
    "\r\n",
    "student_data_df.count()"
   ],
   "outputs": [],
   "metadata": {}
  },
  {
   "cell_type": "code",
   "execution_count": null,
   "source": [
    "# Determine if there are any missing values in the school data.\r\n",
    "\r\n",
    "school_data_df.isnull().sum()"
   ],
   "outputs": [],
   "metadata": {}
  },
  {
   "cell_type": "code",
   "execution_count": null,
   "source": [
    "# Determine if there are any missing values in the student data.\r\n",
    "\r\n",
    "student_data_df.notnull().sum()"
   ],
   "outputs": [],
   "metadata": {}
  },
  {
   "cell_type": "code",
   "execution_count": null,
   "source": [
    "# Determine data types for the shcool DataFrames \r\n",
    "school_data_df.dtypes"
   ],
   "outputs": [],
   "metadata": {}
  },
  {
   "cell_type": "code",
   "execution_count": null,
   "source": [
    "#determine data types for the student frames\r\n",
    "student_data_df.dtypes"
   ],
   "outputs": [],
   "metadata": {}
  },
  {
   "cell_type": "code",
   "execution_count": null,
   "source": [
    "student_data_df.head()\r\n"
   ],
   "outputs": [],
   "metadata": {}
  },
  {
   "cell_type": "code",
   "execution_count": null,
   "source": [
    "# Add each prefix and suffix to remove to a list\r\n",
    "prefixes_suffixes = [\"Dr. \", \"Mr. \",\"Ms. \", \"Mrs. \", \"Miss \", \" MD\", \" DDS\", \" DVM\", \" PhD\"]\r\n",
    "\r\n",
    "for word in prefixes_suffixes:\r\n",
    "    student_data_df[\"student_name\"] = student_data_df[\"student_name\"].str.replace(word,\"\")\r\n",
    "\r\n",
    "student_data_df.head(10)"
   ],
   "outputs": [],
   "metadata": {}
  },
  {
   "cell_type": "code",
   "execution_count": null,
   "source": [
    "#merging the school dataset and student dataset by using school_name as the connector\r\n",
    "\r\n",
    "school_data_complete_df = pd.merge(student_data_df, school_data_df, on=[\"school_name\", \"school_name\"])\r\n",
    "school_data_complete_df.head()"
   ],
   "outputs": [],
   "metadata": {}
  },
  {
   "cell_type": "code",
   "execution_count": null,
   "source": [
    "# Get the total number of students.\r\n",
    "student_count = school_data_complete_df[\"Student ID\"].count()\r\n",
    "student_count"
   ],
   "outputs": [],
   "metadata": {}
  },
  {
   "cell_type": "code",
   "execution_count": null,
   "source": [
    "# Calculate the total number of schools\r\n",
    "school_count= school_data_df[\"school_name\"].count()\r\n",
    "school_count"
   ],
   "outputs": [],
   "metadata": {}
  },
  {
   "cell_type": "code",
   "execution_count": null,
   "source": [
    "# Calculate the total budget\r\n",
    "total_budget = school_data_df[\"budget\"].sum()\r\n",
    "total_budget"
   ],
   "outputs": [],
   "metadata": {}
  },
  {
   "cell_type": "code",
   "execution_count": null,
   "source": [
    "# Calculate the average reading\r\n",
    "average_reading_score = school_data_complete_df[\"reading_score\"].mean()\r\n",
    "average_reading_score"
   ],
   "outputs": [],
   "metadata": {}
  },
  {
   "cell_type": "code",
   "execution_count": null,
   "source": [
    "# Calculate the average math score\r\n",
    "average_math_score = school_data_complete_df[\"math_score\"].mean()\r\n",
    "average_math_score"
   ],
   "outputs": [],
   "metadata": {}
  },
  {
   "cell_type": "code",
   "execution_count": null,
   "source": [
    "# Generate a list of students with passing math scores.\r\n",
    "passing_math = school_data_complete_df[school_data_complete_df[\"math_score\"] >= 70]\r\n",
    "passing_math"
   ],
   "outputs": [],
   "metadata": {}
  },
  {
   "cell_type": "code",
   "execution_count": null,
   "source": [
    "# Generate a list of students with passing reading scores.\r\n",
    "\r\n",
    "passing_reading = school_data_complete_df[school_data_complete_df[\"reading_score\"] >= 70]\r\n",
    "passing_reading"
   ],
   "outputs": [],
   "metadata": {}
  },
  {
   "cell_type": "code",
   "execution_count": null,
   "source": [
    "# counting the number of passing math scores\r\n",
    "passing_math_count = passing_math[\"student_name\"].count()\r\n",
    "passing_reading_count = passing_reading[\"student_name\"].count()\r\n",
    "print(passing_math_count)\r\n",
    "print(passing_reading_count)"
   ],
   "outputs": [],
   "metadata": {}
  },
  {
   "cell_type": "code",
   "execution_count": null,
   "source": [
    "# Percentage of passing math and reading \r\n",
    "passing_reading_percentage = (passing_reading_count/student_count)*100\r\n",
    "passing_math_percentage = (passing_math_count/student_count)*100\r\n",
    "print(passing_math_percentage)\r\n",
    "print(passing_reading_percentage)"
   ],
   "outputs": [],
   "metadata": {}
  },
  {
   "cell_type": "code",
   "execution_count": null,
   "source": [
    "# Calculate the tsudents who passed both reading and math\r\n",
    "\r\n",
    "passing_math_reading = school_data_complete_df[(school_data_complete_df[\"math_score\"] >= 70) & (school_data_complete_df[\"reading_score\"] >= 70)]\r\n",
    "\r\n",
    "passing_math_reading.head()"
   ],
   "outputs": [],
   "metadata": {}
  },
  {
   "cell_type": "code",
   "execution_count": null,
   "source": [
    "# Calculate the number of students who passed both math and reading\r\n",
    "overall_passing_math_reading_count = passing_math_reading[\"student_name\"].count()\r\n",
    "overall_passing_math_reading_count"
   ],
   "outputs": [],
   "metadata": {}
  },
  {
   "cell_type": "code",
   "execution_count": null,
   "source": [
    "# Calculate the overall passing percentage\r\n",
    "\r\n",
    "overall_passing_percentage = (overall_passing_math_reading_count/student_count)*100\r\n",
    "overall_passing_percentage"
   ],
   "outputs": [],
   "metadata": {}
  },
  {
   "cell_type": "code",
   "execution_count": null,
   "source": [
    "# Generate a new data frame called \"district_summary_df\" for our data\r\n",
    "\r\n",
    "district_summary_df = pd.DataFrame(\r\n",
    "    [{\"Total Schools\": school_count, \r\n",
    "    \"Total Students\": student_count, \r\n",
    "    \"Total Budget\": total_budget, \r\n",
    "    \"Average Math Score\": average_math_score, \r\n",
    "    \"Average Reading Score\": average_reading_score, \r\n",
    "    \"% Passing Math\": passing_math_percentage, \r\n",
    "    \"% Passing Reading\": passing_reading_percentage, \r\n",
    "    \"% Overall Passing\": overall_passing_percentage}])\r\n",
    "district_summary_df"
   ],
   "outputs": [],
   "metadata": {}
  },
  {
   "cell_type": "code",
   "execution_count": null,
   "source": [
    "# formatting the \"Total Student\" to have the comma for a thousands seperator.\r\n",
    "\r\n",
    "district_summary_df[\"Total Students\"] = district_summary_df[\"Total Students\"].map(\"{:,}\".format)\r\n",
    "district_summary_df[\"Total Students\"]\r\n",
    "\r\n",
    "# Formatting budget with comma's and cents.\r\n",
    "\r\n",
    "district_summary_df[\"Total Budget\"] = district_summary_df[\"Total Budget\"].map(\"${:,.2f}\".format)\r\n",
    "district_summary_df[\"Total Budget\"]\r\n",
    "\r\n",
    "# Format the columns.\r\n",
    "district_summary_df[\"Average Math Score\"] = district_summary_df[\"Average Math Score\"].map(\"{:.1f}\".format)\r\n",
    "\r\n",
    "district_summary_df[\"Average Reading Score\"] = district_summary_df[\"Average Reading Score\"].map(\"{:.1f}\".format)\r\n",
    "\r\n",
    "district_summary_df[\"% Passing Math\"] = district_summary_df[\"% Passing Math\"].map(\"{:.0f}\".format)\r\n",
    "\r\n",
    "district_summary_df[\"% Passing Reading\"] = district_summary_df[\"% Passing Reading\"].map(\"{:.0f}\".format)\r\n",
    "\r\n",
    "district_summary_df[\"% Overall Passing\"] = district_summary_df[\"% Overall Passing\"].map(\"{:.0f}\".format)"
   ],
   "outputs": [],
   "metadata": {}
  },
  {
   "cell_type": "code",
   "execution_count": null,
   "source": [
    "# Rearranging the columns\r\n",
    "\r\n",
    "new_column_order = [\"Total Schools\", \"Total Students\", \"Average Math Score\", \"Average Reading Score\", \"% Passing Math\", \"% Passing Reading\", \"% Overall Passing\"]\r\n",
    "\r\n",
    "district_summary_df = district_summary_df[new_column_order]\r\n",
    "district_summary_df"
   ],
   "outputs": [],
   "metadata": {}
  },
  {
   "cell_type": "code",
   "execution_count": null,
   "source": [
    "# Determine the school type.\r\n",
    "per_school_types = school_data_df.set_index([\"school_name\"])[\"type\"]\r\n",
    "per_school_types"
   ],
   "outputs": [],
   "metadata": {}
  },
  {
   "cell_type": "code",
   "execution_count": null,
   "source": [
    "# Add the per_school_types into a DataFrame for testing.\r\n",
    "df = pd.DataFrame(per_school_types)\r\n",
    "df"
   ],
   "outputs": [],
   "metadata": {}
  },
  {
   "cell_type": "code",
   "execution_count": null,
   "source": [
    "# Calculate the total student count.\r\n",
    "per_school_counts = school_data_complete_df[\"school_name\"].value_counts()\r\n",
    "per_school_counts"
   ],
   "outputs": [],
   "metadata": {}
  },
  {
   "cell_type": "code",
   "execution_count": null,
   "source": [
    "# Calculate the total school budget.\r\n",
    "per_school_budget = school_data_df.set_index([\"school_name\"])[\"budget\"]\r\n",
    "per_school_budget"
   ],
   "outputs": [],
   "metadata": {}
  },
  {
   "cell_type": "code",
   "execution_count": null,
   "source": [
    "# Calculate the per capita spending.\r\n",
    "per_school_capita = per_school_budget / per_school_counts\r\n",
    "per_school_capita"
   ],
   "outputs": [],
   "metadata": {}
  },
  {
   "cell_type": "code",
   "execution_count": null,
   "source": [
    "#Calculate the average test scores per school by subject.\r\n",
    "\r\n",
    "per_school_math = school_data_complete_df.groupby(\"school_name\").mean()[\"math_score\"]\r\n",
    "per_school_reading =school_data_complete_df.groupby(\"school_name\").mean()[\"reading_score\"]"
   ],
   "outputs": [],
   "metadata": {}
  },
  {
   "cell_type": "code",
   "execution_count": null,
   "source": [
    "#calculate the passing scores by creating a filtered DataFrame. \r\n",
    "\r\n",
    "per_school_passing_math = school_data_complete_df[(school_data_complete_df[\"math_score\"] >= 70)]\r\n",
    "per_school_passing_reading = school_data_complete_df[(school_data_complete_df[\"reading_score\"] >= 70)]"
   ],
   "outputs": [],
   "metadata": {}
  },
  {
   "cell_type": "code",
   "execution_count": null,
   "source": [
    "# Calculate the number of students passing math and passing reading by school.\r\n",
    "per_school_students_passing_math = per_school_passing_math.groupby([\"school_name\"]).count()[\"student_name\"]\r\n",
    "\r\n",
    "per_school_students_passing_reading = per_school_passing_reading.groupby([\"school_name\"]).count()[\"student_name\"]\r\n",
    "\r\n",
    "per_school_students_passing_math"
   ],
   "outputs": [],
   "metadata": {}
  },
  {
   "cell_type": "code",
   "execution_count": null,
   "source": [
    "#Calculate the percentage of passing math and reading scores per school \r\n",
    "per_school_percentage_passing_math = per_school_students_passing_math / per_school_counts * 100\r\n",
    "per_school_percentage_passing_reading = per_school_students_passing_reading / per_school_counts * 100\r\n",
    "per_school_percentage_passing_reading"
   ],
   "outputs": [],
   "metadata": {}
  },
  {
   "cell_type": "code",
   "execution_count": null,
   "source": [
    "# Calculate the students who passed both math and reading.\r\n",
    "per_passing_math_reading = school_data_complete_df[(school_data_complete_df[\"math_score\"] >= 70) & (school_data_complete_df[\"reading_score\"] >= 70)]\r\n",
    "\r\n",
    "# Calculate the number of students who passed both math and reading.\r\n",
    "per_passing_math_reading = per_passing_math_reading.groupby([\"school_name\"]).count()[\"student_name\"]\r\n",
    "\r\n",
    "# Calculate the overall passing percentage.\r\n",
    "per_overall_passing_percentage = per_passing_math_reading / per_school_counts * 100\r\n",
    "\r\n",
    "per_overall_passing_percentage"
   ],
   "outputs": [],
   "metadata": {}
  },
  {
   "cell_type": "code",
   "execution_count": null,
   "source": [
    "# Adding a list of values with keys to create a new DataFrame.\r\n",
    "\r\n",
    "per_school_summary_df = pd.DataFrame({\r\n",
    "             \"School Type\": per_school_types,\r\n",
    "             \"Total Students\": per_school_counts,\r\n",
    "             \"Total School Budget\": per_school_budget,\r\n",
    "             \"Per Student Budget\": per_school_capita,\r\n",
    "             \"Average Math Score\": per_school_math,\r\n",
    "           \"Average Reading Score\": per_school_reading,\r\n",
    "           \"% Passing Math\": per_school_percentage_passing_math,\r\n",
    "           \"% Passing Reading\": per_school_percentage_passing_reading,\r\n",
    "           \"% Overall Passing\": per_overall_passing_percentage})\r\n",
    "per_school_summary_df.head()"
   ],
   "outputs": [],
   "metadata": {}
  },
  {
   "cell_type": "code",
   "execution_count": null,
   "source": [
    "# Format the Total School Budget and the Per Student Budget columns.\r\n",
    "\r\n",
    "#formatting the budgets \r\n",
    "per_school_summary_df[\"Total School Budget\"] = per_school_summary_df[\"Total School Budget\"].map(\"${:,.2f}\".format)\r\n",
    "per_school_summary_df[\"Per Student Budget\"] = per_school_summary_df[\"Per Student Budget\"].map(\"${:,.2f}\".format)\r\n",
    "\r\n",
    "\r\n",
    "# Display the data frame\r\n",
    "per_school_summary_df.head()"
   ],
   "outputs": [],
   "metadata": {}
  },
  {
   "cell_type": "code",
   "execution_count": null,
   "source": [
    "# Sort and show top five schools.\r\n",
    "\r\n",
    "top_schools = per_school_summary_df.sort_values([\"% Overall Passing\"], ascending = False)\r\n",
    "\r\n",
    "top_schools.head()"
   ],
   "outputs": [],
   "metadata": {}
  },
  {
   "cell_type": "code",
   "execution_count": null,
   "source": [
    "# Sort and show top five schools.\r\n",
    "bottom_schools = per_school_summary_df.sort_values([\"% Overall Passing\"], ascending=True)\r\n",
    "\r\n",
    "bottom_schools.head()"
   ],
   "outputs": [],
   "metadata": {}
  },
  {
   "cell_type": "code",
   "execution_count": null,
   "source": [
    "# Create a grade level DataFrames.\r\n",
    "ninth_graders = school_data_complete_df[(school_data_complete_df[\"grade\"] == \"9th\")]\r\n",
    "\r\n",
    "tenth_graders = school_data_complete_df[(school_data_complete_df[\"grade\"] == \"10th\")]\r\n",
    "\r\n",
    "eleventh_graders = school_data_complete_df[(school_data_complete_df[\"grade\"] == \"11th\")]\r\n",
    "\r\n",
    "twelfth_graders = school_data_complete_df[(school_data_complete_df[\"grade\"] == \"12th\")]\r\n"
   ],
   "outputs": [],
   "metadata": {}
  },
  {
   "cell_type": "code",
   "execution_count": null,
   "source": [
    "# Group each grade level DataFrame by the school name for the average math score.\r\n",
    "ninth_grade_math_scores = ninth_graders.groupby([\"school_name\"]).mean()[\"math_score\"]\r\n",
    "\r\n",
    "tenth_grade_math_scores = tenth_graders.groupby([\"school_name\"]).mean()[\"math_score\"]\r\n",
    "\r\n",
    "eleventh_grade_math_scores = eleventh_graders.groupby([\"school_name\"]).mean()[\"math_score\"]\r\n",
    "\r\n",
    "twelfth_grade_math_scores = twelfth_graders.groupby([\"school_name\"]).mean()[\"math_score\"]"
   ],
   "outputs": [],
   "metadata": {}
  },
  {
   "cell_type": "code",
   "execution_count": null,
   "source": [
    "# Group each grade level DataFrame by the school name for the average reading score.\r\n",
    "ninth_grade_reading_scores = ninth_graders.groupby([\"school_name\"]).mean()[\"reading_score\"]\r\n",
    "\r\n",
    "tenth_grade_reading_scores = tenth_graders.groupby([\"school_name\"]).mean()[\"reading_score\"]\r\n",
    "\r\n",
    "eleventh_grade_reading_scores = eleventh_graders.groupby([\"school_name\"]).mean()[\"reading_score\"]\r\n",
    "\r\n",
    "twelfth_grade_reading_scores = twelfth_graders.groupby([\"school_name\"]).mean()[\"reading_score\"]"
   ],
   "outputs": [],
   "metadata": {}
  },
  {
   "cell_type": "code",
   "execution_count": null,
   "source": [
    "# Combine each grade level Series for average math scores by school into a single DataFrame.\r\n",
    "math_scores_by_grade = pd.DataFrame({\r\n",
    "               \"9th\": ninth_grade_math_scores,\r\n",
    "               \"10th\": tenth_grade_math_scores,\r\n",
    "               \"11th\": eleventh_grade_math_scores,\r\n",
    "               \"12th\": twelfth_grade_math_scores})\r\n",
    "\r\n",
    "math_scores_by_grade.head()"
   ],
   "outputs": [],
   "metadata": {}
  },
  {
   "cell_type": "code",
   "execution_count": null,
   "source": [
    "# Combine each grade level Series for average reading scores by school into a single DataFrame.\r\n",
    "reading_scores_by_grade = pd.DataFrame({\r\n",
    "              \"9th\": ninth_grade_reading_scores,\r\n",
    "              \"10th\": tenth_grade_reading_scores,\r\n",
    "              \"11th\": eleventh_grade_reading_scores,\r\n",
    "              \"12th\": twelfth_grade_reading_scores})\r\n",
    "\r\n",
    "reading_scores_by_grade.head()"
   ],
   "outputs": [],
   "metadata": {}
  },
  {
   "cell_type": "code",
   "execution_count": null,
   "source": [
    "# Format each grade column.\r\n",
    "math_scores_by_grade[\"9th\"] = math_scores_by_grade[\"9th\"].map(\"{:.1f}\".format)\r\n",
    "\r\n",
    "math_scores_by_grade[\"10th\"] = math_scores_by_grade[\"10th\"].map(\"{:.1f}\".format)\r\n",
    "\r\n",
    "math_scores_by_grade[\"11th\"] = math_scores_by_grade[\"11th\"].map(\"{:.1f}\".format)\r\n",
    "\r\n",
    "math_scores_by_grade[\"12th\"] = math_scores_by_grade[\"12th\"].map(\"{:.1f}\".format)\r\n",
    "\r\n",
    "# Make sure the columns are in the correct order.\r\n",
    "math_scores_by_grade = math_scores_by_grade[\r\n",
    "             [\"9th\", \"10th\", \"11th\", \"12th\"]]\r\n",
    "\r\n",
    "# Remove the index name.\r\n",
    "math_scores_by_grade.index.name = None\r\n",
    "# Display the DataFrame.\r\n",
    "math_scores_by_grade.head()"
   ],
   "outputs": [],
   "metadata": {}
  },
  {
   "cell_type": "code",
   "execution_count": null,
   "source": [
    "# Format each grade column.\r\n",
    "reading_scores_by_grade[\"9th\"] = reading_scores_by_grade[\"9th\"].map(\"{:,.1f}\".format)\r\n",
    "\r\n",
    "reading_scores_by_grade[\"10th\"] = reading_scores_by_grade[\"10th\"].map(\"{:,.1f}\".format)\r\n",
    "\r\n",
    "reading_scores_by_grade[\"11th\"] = reading_scores_by_grade[\"11th\"].map(\"{:,.1f}\".format)\r\n",
    "\r\n",
    "reading_scores_by_grade[\"12th\"] = reading_scores_by_grade[\"12th\"].map(\"{:,.1f}\".format)\r\n",
    "\r\n",
    "# Make sure the columns are in the correct order.\r\n",
    "reading_scores_by_grade = reading_scores_by_grade[\r\n",
    "             [\"9th\", \"10th\", \"11th\", \"12th\"]]\r\n",
    "\r\n",
    "# Remove the index name.\r\n",
    "reading_scores_by_grade.index.name = None\r\n",
    "# Display the data frame.\r\n",
    "reading_scores_by_grade.head()"
   ],
   "outputs": [],
   "metadata": {}
  }
 ],
 "metadata": {
  "kernelspec": {
   "name": "python3",
   "display_name": "Python 3.7.10 64-bit ('PythonData': conda)"
  },
  "language_info": {
   "codemirror_mode": {
    "name": "ipython",
    "version": 3
   },
   "file_extension": ".py",
   "mimetype": "text/x-python",
   "name": "python",
   "nbconvert_exporter": "python",
   "pygments_lexer": "ipython3",
   "version": "3.7.10"
  },
  "interpreter": {
   "hash": "e2c90f2b55697ebd10a1580373892a477e33f2643c7f0fec0ac59e3643c3e2f1"
  }
 },
 "nbformat": 4,
 "nbformat_minor": 5
}